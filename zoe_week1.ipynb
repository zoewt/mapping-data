{
 "cells": [
  {
   "cell_type": "code",
   "execution_count": null,
   "metadata": {},
   "outputs": [],
   "source": [
    "# Load the CSV file in the notebook from your forked repository.\n",
    "\n",
    "#Use a distinct field to retrieve data, like:\n",
    "\n",
    "#Type of wine (red or white)\n",
    "\n",
    "#Wine score range or baseline (e.g. between 90 and 92 points)\n",
    "\n",
    "#Region\n",
    "\n",
    "#Capture every row that matches your condition, and after processing, save everything to a formatted new JSON file\n",
    "\n",
    "#Create a Demo project in GitHub with a README.md that describes what you did.\n",
    "\n",
    "#Create a Demo Video and reference it in your GitHub Project.\n",
    "\n"
   ]
  }
 ],
 "metadata": {
  "kernelspec": {
   "display_name": "Python 3",
   "language": "python",
   "name": "python3"
  },
  "language_info": {
   "codemirror_mode": {
    "name": "ipython",
    "version": 3
   },
   "file_extension": ".py",
   "mimetype": "text/x-python",
   "name": "python",
   "nbconvert_exporter": "python",
   "pygments_lexer": "ipython3",
   "version": "3.7.4"
  }
 },
 "nbformat": 4,
 "nbformat_minor": 2
}
